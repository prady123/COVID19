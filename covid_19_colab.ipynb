{
  "nbformat": 4,
  "nbformat_minor": 0,
  "metadata": {
    "kernelspec": {
      "display_name": "Python [conda env:myenv]",
      "language": "python",
      "name": "conda-env-myenv-py"
    },
    "language_info": {
      "codemirror_mode": {
        "name": "ipython",
        "version": 3
      },
      "file_extension": ".py",
      "mimetype": "text/x-python",
      "name": "python",
      "nbconvert_exporter": "python",
      "pygments_lexer": "ipython3",
      "version": "3.5.2"
    },
    "colab": {
      "name": "covid-19.ipynb",
      "provenance": []
    },
    "accelerator": "GPU"
  },
  "cells": [
    {
      "cell_type": "code",
      "metadata": {
        "id": "lOVdjtHsYJTf",
        "colab_type": "code",
        "colab": {}
      },
      "source": [
        "from tensorflow.keras.preprocessing.image import ImageDataGenerator\n",
        "from tensorflow.keras.applications import VGG16\n",
        "from tensorflow.keras.layers import AveragePooling2D\n",
        "from tensorflow.keras.layers import Dropout\n",
        "from tensorflow.keras.layers import Flatten\n",
        "from tensorflow.keras.layers import Dense\n",
        "from tensorflow.keras.layers import Input\n",
        "from tensorflow.keras.models import Model\n",
        "from tensorflow.keras.optimizers import Adam\n",
        "from tensorflow.keras.utils import to_categorical\n",
        "from sklearn.preprocessing import LabelBinarizer\n",
        "from sklearn.model_selection import train_test_split\n",
        "from sklearn.metrics import classification_report\n",
        "from sklearn.metrics import confusion_matrix\n",
        "from imutils import paths\n",
        "import matplotlib.pyplot as plt\n",
        "import numpy as np\n",
        "import argparse\n",
        "import cv2\n",
        "import os"
      ],
      "execution_count": 0,
      "outputs": []
    },
    {
      "cell_type": "code",
      "metadata": {
        "id": "o3y216FAYURN",
        "colab_type": "code",
        "colab": {
          "base_uri": "https://localhost:8080/",
          "height": 34
        },
        "outputId": "1a8f88ea-a09e-45e8-f707-7ef006f1d8a6"
      },
      "source": [
        "ls"
      ],
      "execution_count": 2,
      "outputs": [
        {
          "output_type": "stream",
          "text": [
            "\u001b[0m\u001b[01;34mdataset\u001b[0m/  dataset.zip  \u001b[01;34m__MACOSX\u001b[0m/  \u001b[01;34msample_data\u001b[0m/\n"
          ],
          "name": "stdout"
        }
      ]
    },
    {
      "cell_type": "code",
      "metadata": {
        "id": "l0awuSphYJTo",
        "colab_type": "code",
        "colab": {},
        "outputId": "b0db4157-b8f6-4646-acb5-b677b80e947b"
      },
      "source": [
        "!pip install imutils"
      ],
      "execution_count": 0,
      "outputs": [
        {
          "output_type": "stream",
          "text": [
            "Collecting imutils\n",
            "  Downloading imutils-0.5.3.tar.gz (17 kB)\n",
            "Building wheels for collected packages: imutils\n",
            "  Building wheel for imutils (setup.py) ... \u001b[?25ldone\n",
            "\u001b[?25h  Created wheel for imutils: filename=imutils-0.5.3-py3-none-any.whl size=25850 sha256=c298b31491936aa32beb973add1923f032545d69eecc91685acd32dd85e9649c\n",
            "  Stored in directory: /Users/pradyumna/Library/Caches/pip/wheels/ff/8f/43/c2a588576c4ddd4de073599a72d4add981f75ed34ce618fb39\n",
            "Successfully built imutils\n",
            "Installing collected packages: imutils\n",
            "Successfully installed imutils-0.5.3\n"
          ],
          "name": "stdout"
        }
      ]
    },
    {
      "cell_type": "code",
      "metadata": {
        "id": "yeCoHxjWYJTs",
        "colab_type": "code",
        "colab": {}
      },
      "source": [
        "from imutils import paths"
      ],
      "execution_count": 0,
      "outputs": []
    },
    {
      "cell_type": "code",
      "metadata": {
        "id": "ahL_BRAaZQHm",
        "colab_type": "code",
        "colab": {}
      },
      "source": [
        "import zipfile"
      ],
      "execution_count": 0,
      "outputs": []
    },
    {
      "cell_type": "code",
      "metadata": {
        "id": "716SE7sJY2H6",
        "colab_type": "code",
        "colab": {}
      },
      "source": [
        "import zipfile\n",
        "with zipfile.ZipFile('dataset.zip', 'r') as zip_ref:\n",
        "    zip_ref.extractall('.')"
      ],
      "execution_count": 0,
      "outputs": []
    },
    {
      "cell_type": "code",
      "metadata": {
        "id": "Kdo1f_lIYJTx",
        "colab_type": "code",
        "colab": {}
      },
      "source": [
        "dataset_path = './dataset'"
      ],
      "execution_count": 0,
      "outputs": []
    },
    {
      "cell_type": "code",
      "metadata": {
        "id": "S4W9fjPyYJT0",
        "colab_type": "code",
        "colab": {}
      },
      "source": [
        "lst = os.listdir(dataset_path)\n",
        "if '.DS_Store' in lst:\n",
        "    lst.remove('.DS_Store')"
      ],
      "execution_count": 0,
      "outputs": []
    },
    {
      "cell_type": "code",
      "metadata": {
        "id": "7Uci6WEaYJT3",
        "colab_type": "code",
        "colab": {
          "base_uri": "https://localhost:8080/",
          "height": 34
        },
        "outputId": "a7be446b-1b83-450e-be5e-329d17f6eca5"
      },
      "source": [
        "lst[1]"
      ],
      "execution_count": 13,
      "outputs": [
        {
          "output_type": "execute_result",
          "data": {
            "text/plain": [
              "'normal'"
            ]
          },
          "metadata": {
            "tags": []
          },
          "execution_count": 13
        }
      ]
    },
    {
      "cell_type": "code",
      "metadata": {
        "id": "5vvJa0nRYJT8",
        "colab_type": "code",
        "colab": {}
      },
      "source": [
        "data = []\n",
        "labels = []"
      ],
      "execution_count": 0,
      "outputs": []
    },
    {
      "cell_type": "code",
      "metadata": {
        "id": "P_hnJTB2YJUA",
        "colab_type": "code",
        "colab": {
          "base_uri": "https://localhost:8080/",
          "height": 181
        },
        "outputId": "4d033ab2-fa01-40e0-b8c1-5f93665f19cf"
      },
      "source": [
        "for i in lst:\n",
        "    label = i.split(os.path.sep)[-2]"
      ],
      "execution_count": 8,
      "outputs": [
        {
          "output_type": "error",
          "ename": "IndexError",
          "evalue": "ignored",
          "traceback": [
            "\u001b[0;31m---------------------------------------------------------------------------\u001b[0m",
            "\u001b[0;31mIndexError\u001b[0m                                Traceback (most recent call last)",
            "\u001b[0;32m<ipython-input-8-fc26da14b0be>\u001b[0m in \u001b[0;36m<module>\u001b[0;34m()\u001b[0m\n\u001b[1;32m      1\u001b[0m \u001b[0;32mfor\u001b[0m \u001b[0mi\u001b[0m \u001b[0;32min\u001b[0m \u001b[0mlst\u001b[0m\u001b[0;34m:\u001b[0m\u001b[0;34m\u001b[0m\u001b[0;34m\u001b[0m\u001b[0m\n\u001b[0;32m----> 2\u001b[0;31m     \u001b[0mlabel\u001b[0m \u001b[0;34m=\u001b[0m \u001b[0mi\u001b[0m\u001b[0;34m.\u001b[0m\u001b[0msplit\u001b[0m\u001b[0;34m(\u001b[0m\u001b[0mos\u001b[0m\u001b[0;34m.\u001b[0m\u001b[0mpath\u001b[0m\u001b[0;34m.\u001b[0m\u001b[0msep\u001b[0m\u001b[0;34m)\u001b[0m\u001b[0;34m[\u001b[0m\u001b[0;34m-\u001b[0m\u001b[0;36m2\u001b[0m\u001b[0;34m]\u001b[0m\u001b[0;34m\u001b[0m\u001b[0;34m\u001b[0m\u001b[0m\n\u001b[0m",
            "\u001b[0;31mIndexError\u001b[0m: list index out of range"
          ]
        }
      ]
    },
    {
      "cell_type": "code",
      "metadata": {
        "id": "rARIZzTEYJUC",
        "colab_type": "code",
        "colab": {
          "base_uri": "https://localhost:8080/",
          "height": 34
        },
        "outputId": "152423d5-efeb-4780-f766-c6df8d363369"
      },
      "source": [
        "ls"
      ],
      "execution_count": 86,
      "outputs": [
        {
          "output_type": "stream",
          "text": [
            "\u001b[0m\u001b[01;34mdataset\u001b[0m/  dataset.zip  \u001b[01;34m__MACOSX\u001b[0m/  \u001b[01;34msample_data\u001b[0m/\n"
          ],
          "name": "stdout"
        }
      ]
    },
    {
      "cell_type": "code",
      "metadata": {
        "id": "wnD5WZHkYJUF",
        "colab_type": "code",
        "colab": {}
      },
      "source": [
        "paths_list = list(paths.list_images('./dataset'))"
      ],
      "execution_count": 0,
      "outputs": []
    },
    {
      "cell_type": "code",
      "metadata": {
        "id": "RTsaDbY-YJUJ",
        "colab_type": "code",
        "colab": {
          "base_uri": "https://localhost:8080/",
          "height": 867
        },
        "outputId": "be14991b-10d4-4292-b9f3-fac2d90fe215"
      },
      "source": [
        "paths_list"
      ],
      "execution_count": 84,
      "outputs": [
        {
          "output_type": "execute_result",
          "data": {
            "text/plain": [
              "['./dataset/covid/auntminnie-a-2020_01_28_23_51_6665_2020_01_28_Vietnam_coronavirus.jpeg',\n",
              " './dataset/covid/nejmoa2001191_f1-PA.jpeg',\n",
              " './dataset/covid/ryct.2020200034.fig2.jpeg',\n",
              " './dataset/covid/nejmoa2001191_f5-PA.jpeg',\n",
              " './dataset/covid/auntminnie-d-2020_01_28_23_51_6665_2020_01_28_Vietnam_coronavirus.jpeg',\n",
              " './dataset/covid/1-s2.0-S0929664620300449-gr2_lrg-d.jpg',\n",
              " './dataset/covid/ryct.2020200028.fig1a.jpeg',\n",
              " './dataset/covid/nejmoa2001191_f3-PA.jpeg',\n",
              " './dataset/covid/lancet-case2a.jpg',\n",
              " './dataset/covid/nCoV-radiol.2020200269.fig1-day7.jpeg',\n",
              " './dataset/covid/1-s2.0-S0929664620300449-gr2_lrg-a.jpg',\n",
              " './dataset/covid/auntminnie-b-2020_01_28_23_51_6665_2020_01_28_Vietnam_coronavirus.jpeg',\n",
              " './dataset/covid/radiol.2020200490.fig3.jpeg',\n",
              " './dataset/covid/1-s2.0-S0929664620300449-gr2_lrg-c.jpg',\n",
              " './dataset/covid/radiopedia-covid-19-pneumonia-2.jpg',\n",
              " './dataset/covid/nejmc2001573_f1a.jpeg',\n",
              " './dataset/covid/nejmc2001573_f1b.jpeg',\n",
              " './dataset/covid/ryct.2020200034.fig5-day0.jpeg',\n",
              " './dataset/covid/ryct.2020200034.fig5-day4.jpeg',\n",
              " './dataset/covid/lancet-case2b.jpg',\n",
              " './dataset/covid/1-s2.0-S0929664620300449-gr2_lrg-b.jpg',\n",
              " './dataset/covid/1-s2.0-S0140673620303706-fx1_lrg.jpg',\n",
              " './dataset/covid/nejmoa2001191_f4.jpeg',\n",
              " './dataset/covid/auntminnie-c-2020_01_28_23_51_6665_2020_01_28_Vietnam_coronavirus.jpeg',\n",
              " './dataset/covid/ryct.2020200034.fig5-day7.jpeg',\n",
              " './dataset/normal/NORMAL2-IM-0869-0001.jpeg',\n",
              " './dataset/normal/person939_bacteria_2864.jpeg',\n",
              " './dataset/normal/person989_virus_1667.jpeg',\n",
              " './dataset/normal/IM-0033-0001-0001.jpeg',\n",
              " './dataset/normal/person259_bacteria_1220.jpeg',\n",
              " './dataset/normal/person1290_virus_2215.jpeg',\n",
              " './dataset/normal/person1599_virus_2776.jpeg',\n",
              " './dataset/normal/person339_bacteria_1574.jpeg',\n",
              " './dataset/normal/person525_bacteria_2216.jpeg',\n",
              " './dataset/normal/person1558_bacteria_4066.jpeg',\n",
              " './dataset/normal/IM-0240-0001.jpeg',\n",
              " './dataset/normal/person1935_bacteria_4849.jpeg',\n",
              " './dataset/normal/person1_bacteria_2.jpeg',\n",
              " './dataset/normal/person1830_bacteria_4693.jpeg',\n",
              " './dataset/normal/person438_bacteria_1893.jpeg',\n",
              " './dataset/normal/IM-0466-0001.jpeg',\n",
              " './dataset/normal/NORMAL2-IM-0315-0001.jpeg',\n",
              " './dataset/normal/NORMAL2-IM-1179-0001.jpeg',\n",
              " './dataset/normal/person925_virus_1582.jpeg',\n",
              " './dataset/normal/NORMAL2-IM-0696-0001.jpeg',\n",
              " './dataset/normal/person1102_bacteria_3043.jpeg',\n",
              " './dataset/normal/person612_bacteria_2478.jpeg',\n",
              " './dataset/normal/person934_virus_1595.jpeg',\n",
              " './dataset/normal/person651_bacteria_2543.jpeg',\n",
              " './dataset/normal/person378_virus_761.jpeg']"
            ]
          },
          "metadata": {
            "tags": []
          },
          "execution_count": 84
        }
      ]
    },
    {
      "cell_type": "code",
      "metadata": {
        "id": "EC-V6iA5YJUL",
        "colab_type": "code",
        "colab": {}
      },
      "source": [
        "i = './dataset/normal/NORMAL2-IM-0315-0001.jpeg'"
      ],
      "execution_count": 0,
      "outputs": []
    },
    {
      "cell_type": "code",
      "metadata": {
        "id": "GD_pWkCkYJUO",
        "colab_type": "code",
        "colab": {}
      },
      "source": [
        "label = i.split(os.path.sep)[-2]"
      ],
      "execution_count": 0,
      "outputs": []
    },
    {
      "cell_type": "code",
      "metadata": {
        "id": "1pZhWkkSYJUQ",
        "colab_type": "code",
        "colab": {
          "base_uri": "https://localhost:8080/",
          "height": 34
        },
        "outputId": "e75dc9c8-6dd9-420f-c0b5-4b51646c989f"
      },
      "source": [
        "i.split('/')"
      ],
      "execution_count": 18,
      "outputs": [
        {
          "output_type": "execute_result",
          "data": {
            "text/plain": [
              "['.', 'dataset', 'normal', 'NORMAL2-IM-0315-0001.jpeg']"
            ]
          },
          "metadata": {
            "tags": []
          },
          "execution_count": 18
        }
      ]
    },
    {
      "cell_type": "code",
      "metadata": {
        "id": "0U_d4VwQYJUS",
        "colab_type": "code",
        "colab": {
          "base_uri": "https://localhost:8080/",
          "height": 34
        },
        "outputId": "d52c53d8-1ea3-4896-81e0-164e2782a582"
      },
      "source": [
        "label"
      ],
      "execution_count": 19,
      "outputs": [
        {
          "output_type": "execute_result",
          "data": {
            "text/plain": [
              "'normal'"
            ]
          },
          "metadata": {
            "tags": []
          },
          "execution_count": 19
        }
      ]
    },
    {
      "cell_type": "code",
      "metadata": {
        "id": "i54O6XWMYJUV",
        "colab_type": "code",
        "colab": {}
      },
      "source": [
        "for i in paths_list:\n",
        "    \n",
        "    \n",
        "    label = i.split('/')[-2]\n",
        "    \n",
        "    image = cv2.imread(i)\n",
        "    image = cv2.cvtColor(image, cv2.COLOR_BGR2RGB)\n",
        "    image = cv2.resize(image, (224, 224))\n",
        "    \n",
        "    data.append(image)\n",
        "    \n",
        "    labels.append(label)    "
      ],
      "execution_count": 0,
      "outputs": []
    },
    {
      "cell_type": "code",
      "metadata": {
        "id": "ZwSb701fYJUZ",
        "colab_type": "code",
        "colab": {
          "base_uri": "https://localhost:8080/",
          "height": 34
        },
        "outputId": "5cafb8e8-d5f4-4d23-c03e-c03516c69da9"
      },
      "source": [
        "len(data)"
      ],
      "execution_count": 22,
      "outputs": [
        {
          "output_type": "execute_result",
          "data": {
            "text/plain": [
              "50"
            ]
          },
          "metadata": {
            "tags": []
          },
          "execution_count": 22
        }
      ]
    },
    {
      "cell_type": "code",
      "metadata": {
        "id": "Gmyfcig-hOvq",
        "colab_type": "code",
        "colab": {
          "base_uri": "https://localhost:8080/",
          "height": 867
        },
        "outputId": "eb860140-e463-4258-e5d0-cfa47b0380e4"
      },
      "source": [
        "labels"
      ],
      "execution_count": 86,
      "outputs": [
        {
          "output_type": "execute_result",
          "data": {
            "text/plain": [
              "['covid',\n",
              " 'covid',\n",
              " 'covid',\n",
              " 'covid',\n",
              " 'covid',\n",
              " 'covid',\n",
              " 'covid',\n",
              " 'covid',\n",
              " 'covid',\n",
              " 'covid',\n",
              " 'covid',\n",
              " 'covid',\n",
              " 'covid',\n",
              " 'covid',\n",
              " 'covid',\n",
              " 'covid',\n",
              " 'covid',\n",
              " 'covid',\n",
              " 'covid',\n",
              " 'covid',\n",
              " 'covid',\n",
              " 'covid',\n",
              " 'covid',\n",
              " 'covid',\n",
              " 'covid',\n",
              " 'normal',\n",
              " 'normal',\n",
              " 'normal',\n",
              " 'normal',\n",
              " 'normal',\n",
              " 'normal',\n",
              " 'normal',\n",
              " 'normal',\n",
              " 'normal',\n",
              " 'normal',\n",
              " 'normal',\n",
              " 'normal',\n",
              " 'normal',\n",
              " 'normal',\n",
              " 'normal',\n",
              " 'normal',\n",
              " 'normal',\n",
              " 'normal',\n",
              " 'normal',\n",
              " 'normal',\n",
              " 'normal',\n",
              " 'normal',\n",
              " 'normal',\n",
              " 'normal',\n",
              " 'normal']"
            ]
          },
          "metadata": {
            "tags": []
          },
          "execution_count": 86
        }
      ]
    },
    {
      "cell_type": "code",
      "metadata": {
        "id": "IgvygbroYJUe",
        "colab_type": "code",
        "colab": {}
      },
      "source": [
        "data = np.array(data)/255.0\n",
        "labels = np.array(labels)"
      ],
      "execution_count": 0,
      "outputs": []
    },
    {
      "cell_type": "code",
      "metadata": {
        "id": "6TzgJAB2g-TN",
        "colab_type": "code",
        "colab": {}
      },
      "source": [
        "\n",
        "lb = LabelBinarizer()\n",
        "labels = lb.fit_transform(labels)\n",
        "labels = to_categorical(labels)"
      ],
      "execution_count": 0,
      "outputs": []
    },
    {
      "cell_type": "code",
      "metadata": {
        "id": "h2telnQOYJUk",
        "colab_type": "code",
        "colab": {}
      },
      "source": [
        "mygen = ImageDataGenerator(rotation_range=15,\n",
        "                           fill_mode=\"nearest\",\n",
        "                          )"
      ],
      "execution_count": 0,
      "outputs": []
    },
    {
      "cell_type": "code",
      "metadata": {
        "id": "kBLnKL5aYJUm",
        "colab_type": "code",
        "colab": {
          "base_uri": "https://localhost:8080/",
          "height": 34
        },
        "outputId": "4b29923d-8cea-44a8-8b76-116cc463e565"
      },
      "source": [
        "mygen"
      ],
      "execution_count": 40,
      "outputs": [
        {
          "output_type": "execute_result",
          "data": {
            "text/plain": [
              "<tensorflow.python.keras.preprocessing.image.ImageDataGenerator at 0x7f16f5d79d30>"
            ]
          },
          "metadata": {
            "tags": []
          },
          "execution_count": 40
        }
      ]
    },
    {
      "cell_type": "code",
      "metadata": {
        "id": "L-loRgWuYJUo",
        "colab_type": "code",
        "colab": {}
      },
      "source": [
        "base = VGG16(weights=\"imagenet\", include_top=False,input_tensor=Input(shape=(224, 224, 3)))\n"
      ],
      "execution_count": 0,
      "outputs": []
    },
    {
      "cell_type": "code",
      "metadata": {
        "id": "jaL-7QbX2Rs8",
        "colab_type": "code",
        "colab": {
          "base_uri": "https://localhost:8080/",
          "height": 799
        },
        "outputId": "950a6ede-5550-4f48-fb1b-3b14c2d904dc"
      },
      "source": [
        "base.summary()"
      ],
      "execution_count": 91,
      "outputs": [
        {
          "output_type": "stream",
          "text": [
            "Model: \"vgg16\"\n",
            "_________________________________________________________________\n",
            "Layer (type)                 Output Shape              Param #   \n",
            "=================================================================\n",
            "input_2 (InputLayer)         [(None, 224, 224, 3)]     0         \n",
            "_________________________________________________________________\n",
            "block1_conv1 (Conv2D)        (None, 224, 224, 64)      1792      \n",
            "_________________________________________________________________\n",
            "block1_conv2 (Conv2D)        (None, 224, 224, 64)      36928     \n",
            "_________________________________________________________________\n",
            "block1_pool (MaxPooling2D)   (None, 112, 112, 64)      0         \n",
            "_________________________________________________________________\n",
            "block2_conv1 (Conv2D)        (None, 112, 112, 128)     73856     \n",
            "_________________________________________________________________\n",
            "block2_conv2 (Conv2D)        (None, 112, 112, 128)     147584    \n",
            "_________________________________________________________________\n",
            "block2_pool (MaxPooling2D)   (None, 56, 56, 128)       0         \n",
            "_________________________________________________________________\n",
            "block3_conv1 (Conv2D)        (None, 56, 56, 256)       295168    \n",
            "_________________________________________________________________\n",
            "block3_conv2 (Conv2D)        (None, 56, 56, 256)       590080    \n",
            "_________________________________________________________________\n",
            "block3_conv3 (Conv2D)        (None, 56, 56, 256)       590080    \n",
            "_________________________________________________________________\n",
            "block3_pool (MaxPooling2D)   (None, 28, 28, 256)       0         \n",
            "_________________________________________________________________\n",
            "block4_conv1 (Conv2D)        (None, 28, 28, 512)       1180160   \n",
            "_________________________________________________________________\n",
            "block4_conv2 (Conv2D)        (None, 28, 28, 512)       2359808   \n",
            "_________________________________________________________________\n",
            "block4_conv3 (Conv2D)        (None, 28, 28, 512)       2359808   \n",
            "_________________________________________________________________\n",
            "block4_pool (MaxPooling2D)   (None, 14, 14, 512)       0         \n",
            "_________________________________________________________________\n",
            "block5_conv1 (Conv2D)        (None, 14, 14, 512)       2359808   \n",
            "_________________________________________________________________\n",
            "block5_conv2 (Conv2D)        (None, 14, 14, 512)       2359808   \n",
            "_________________________________________________________________\n",
            "block5_conv3 (Conv2D)        (None, 14, 14, 512)       2359808   \n",
            "_________________________________________________________________\n",
            "block5_pool (MaxPooling2D)   (None, 7, 7, 512)         0         \n",
            "=================================================================\n",
            "Total params: 14,714,688\n",
            "Trainable params: 14,714,688\n",
            "Non-trainable params: 0\n",
            "_________________________________________________________________\n"
          ],
          "name": "stdout"
        }
      ]
    },
    {
      "cell_type": "code",
      "metadata": {
        "id": "QFqlpgq_YJUr",
        "colab_type": "code",
        "colab": {}
      },
      "source": [
        "from tensorflow.keras.layers import MaxPooling2D"
      ],
      "execution_count": 0,
      "outputs": []
    },
    {
      "cell_type": "code",
      "metadata": {
        "id": "BK6n5boTYJUt",
        "colab_type": "code",
        "colab": {}
      },
      "source": [
        "top = base.output\n",
        "top = AveragePooling2D(pool_size=(4, 4))(top)\n"
      ],
      "execution_count": 0,
      "outputs": []
    },
    {
      "cell_type": "code",
      "metadata": {
        "id": "ZIJmhDBbYJUu",
        "colab_type": "code",
        "colab": {}
      },
      "source": [
        "model = Model(inputs=base.input, outputs=top)"
      ],
      "execution_count": 0,
      "outputs": []
    },
    {
      "cell_type": "code",
      "metadata": {
        "id": "FlyySdLWYJUv",
        "colab_type": "code",
        "colab": {
          "base_uri": "https://localhost:8080/",
          "height": 833
        },
        "outputId": "cc371d5f-01fe-4a85-aa1d-204252458bd5"
      },
      "source": [
        "model.summary()"
      ],
      "execution_count": 38,
      "outputs": [
        {
          "output_type": "stream",
          "text": [
            "Model: \"model_1\"\n",
            "_________________________________________________________________\n",
            "Layer (type)                 Output Shape              Param #   \n",
            "=================================================================\n",
            "input_1 (InputLayer)         [(None, 224, 224, 3)]     0         \n",
            "_________________________________________________________________\n",
            "block1_conv1 (Conv2D)        (None, 224, 224, 64)      1792      \n",
            "_________________________________________________________________\n",
            "block1_conv2 (Conv2D)        (None, 224, 224, 64)      36928     \n",
            "_________________________________________________________________\n",
            "block1_pool (MaxPooling2D)   (None, 112, 112, 64)      0         \n",
            "_________________________________________________________________\n",
            "block2_conv1 (Conv2D)        (None, 112, 112, 128)     73856     \n",
            "_________________________________________________________________\n",
            "block2_conv2 (Conv2D)        (None, 112, 112, 128)     147584    \n",
            "_________________________________________________________________\n",
            "block2_pool (MaxPooling2D)   (None, 56, 56, 128)       0         \n",
            "_________________________________________________________________\n",
            "block3_conv1 (Conv2D)        (None, 56, 56, 256)       295168    \n",
            "_________________________________________________________________\n",
            "block3_conv2 (Conv2D)        (None, 56, 56, 256)       590080    \n",
            "_________________________________________________________________\n",
            "block3_conv3 (Conv2D)        (None, 56, 56, 256)       590080    \n",
            "_________________________________________________________________\n",
            "block3_pool (MaxPooling2D)   (None, 28, 28, 256)       0         \n",
            "_________________________________________________________________\n",
            "block4_conv1 (Conv2D)        (None, 28, 28, 512)       1180160   \n",
            "_________________________________________________________________\n",
            "block4_conv2 (Conv2D)        (None, 28, 28, 512)       2359808   \n",
            "_________________________________________________________________\n",
            "block4_conv3 (Conv2D)        (None, 28, 28, 512)       2359808   \n",
            "_________________________________________________________________\n",
            "block4_pool (MaxPooling2D)   (None, 14, 14, 512)       0         \n",
            "_________________________________________________________________\n",
            "block5_conv1 (Conv2D)        (None, 14, 14, 512)       2359808   \n",
            "_________________________________________________________________\n",
            "block5_conv2 (Conv2D)        (None, 14, 14, 512)       2359808   \n",
            "_________________________________________________________________\n",
            "block5_conv3 (Conv2D)        (None, 14, 14, 512)       2359808   \n",
            "_________________________________________________________________\n",
            "block5_pool (MaxPooling2D)   (None, 7, 7, 512)         0         \n",
            "_________________________________________________________________\n",
            "max_pooling2d (MaxPooling2D) (None, 1, 1, 512)         0         \n",
            "=================================================================\n",
            "Total params: 14,714,688\n",
            "Trainable params: 14,714,688\n",
            "Non-trainable params: 0\n",
            "_________________________________________________________________\n"
          ],
          "name": "stdout"
        }
      ]
    },
    {
      "cell_type": "code",
      "metadata": {
        "id": "q2QLH9koYJUx",
        "colab_type": "code",
        "colab": {}
      },
      "source": [
        "top = Flatten(name=\"flatten\")(top)\n",
        "top = Dense(64, activation=\"relu\")(top)\n",
        "top = Dropout(0.5)(top)\n",
        "top = Dense(2, activation=\"softmax\")(top)"
      ],
      "execution_count": 0,
      "outputs": []
    },
    {
      "cell_type": "code",
      "metadata": {
        "id": "YcKDJYSpYJUy",
        "colab_type": "code",
        "colab": {}
      },
      "source": [
        "model = Model(inputs = base.input, outputs=top)"
      ],
      "execution_count": 0,
      "outputs": []
    },
    {
      "cell_type": "code",
      "metadata": {
        "id": "AKPRDRIm3ltM",
        "colab_type": "code",
        "colab": {
          "base_uri": "https://localhost:8080/",
          "height": 969
        },
        "outputId": "57d22cf4-e1a3-402e-dd98-cdd1aef5e89f"
      },
      "source": [
        "model.summary()"
      ],
      "execution_count": 96,
      "outputs": [
        {
          "output_type": "stream",
          "text": [
            "Model: \"model_4\"\n",
            "_________________________________________________________________\n",
            "Layer (type)                 Output Shape              Param #   \n",
            "=================================================================\n",
            "input_2 (InputLayer)         [(None, 224, 224, 3)]     0         \n",
            "_________________________________________________________________\n",
            "block1_conv1 (Conv2D)        (None, 224, 224, 64)      1792      \n",
            "_________________________________________________________________\n",
            "block1_conv2 (Conv2D)        (None, 224, 224, 64)      36928     \n",
            "_________________________________________________________________\n",
            "block1_pool (MaxPooling2D)   (None, 112, 112, 64)      0         \n",
            "_________________________________________________________________\n",
            "block2_conv1 (Conv2D)        (None, 112, 112, 128)     73856     \n",
            "_________________________________________________________________\n",
            "block2_conv2 (Conv2D)        (None, 112, 112, 128)     147584    \n",
            "_________________________________________________________________\n",
            "block2_pool (MaxPooling2D)   (None, 56, 56, 128)       0         \n",
            "_________________________________________________________________\n",
            "block3_conv1 (Conv2D)        (None, 56, 56, 256)       295168    \n",
            "_________________________________________________________________\n",
            "block3_conv2 (Conv2D)        (None, 56, 56, 256)       590080    \n",
            "_________________________________________________________________\n",
            "block3_conv3 (Conv2D)        (None, 56, 56, 256)       590080    \n",
            "_________________________________________________________________\n",
            "block3_pool (MaxPooling2D)   (None, 28, 28, 256)       0         \n",
            "_________________________________________________________________\n",
            "block4_conv1 (Conv2D)        (None, 28, 28, 512)       1180160   \n",
            "_________________________________________________________________\n",
            "block4_conv2 (Conv2D)        (None, 28, 28, 512)       2359808   \n",
            "_________________________________________________________________\n",
            "block4_conv3 (Conv2D)        (None, 28, 28, 512)       2359808   \n",
            "_________________________________________________________________\n",
            "block4_pool (MaxPooling2D)   (None, 14, 14, 512)       0         \n",
            "_________________________________________________________________\n",
            "block5_conv1 (Conv2D)        (None, 14, 14, 512)       2359808   \n",
            "_________________________________________________________________\n",
            "block5_conv2 (Conv2D)        (None, 14, 14, 512)       2359808   \n",
            "_________________________________________________________________\n",
            "block5_conv3 (Conv2D)        (None, 14, 14, 512)       2359808   \n",
            "_________________________________________________________________\n",
            "block5_pool (MaxPooling2D)   (None, 7, 7, 512)         0         \n",
            "_________________________________________________________________\n",
            "average_pooling2d (AveragePo (None, 1, 1, 512)         0         \n",
            "_________________________________________________________________\n",
            "flatten (Flatten)            (None, 512)               0         \n",
            "_________________________________________________________________\n",
            "dense_7 (Dense)              (None, 64)                32832     \n",
            "_________________________________________________________________\n",
            "dropout_3 (Dropout)          (None, 64)                0         \n",
            "_________________________________________________________________\n",
            "dense_8 (Dense)              (None, 2)                 130       \n",
            "=================================================================\n",
            "Total params: 14,747,650\n",
            "Trainable params: 14,747,650\n",
            "Non-trainable params: 0\n",
            "_________________________________________________________________\n"
          ],
          "name": "stdout"
        }
      ]
    },
    {
      "cell_type": "markdown",
      "metadata": {
        "id": "TsqmI_0xYJUz",
        "colab_type": "text"
      },
      "source": [
        ""
      ]
    },
    {
      "cell_type": "code",
      "metadata": {
        "id": "XhIseo5p3_Q0",
        "colab_type": "code",
        "colab": {
          "base_uri": "https://localhost:8080/",
          "height": 340
        },
        "outputId": "da7727cc-35d5-4652-80cc-1dab08046965"
      },
      "source": [
        "base.layers"
      ],
      "execution_count": 44,
      "outputs": [
        {
          "output_type": "execute_result",
          "data": {
            "text/plain": [
              "[<tensorflow.python.keras.engine.input_layer.InputLayer at 0x7f2590851710>,\n",
              " <tensorflow.python.keras.layers.convolutional.Conv2D at 0x7f2590208780>,\n",
              " <tensorflow.python.keras.layers.convolutional.Conv2D at 0x7f2590208a20>,\n",
              " <tensorflow.python.keras.layers.pooling.MaxPooling2D at 0x7f258f1a03c8>,\n",
              " <tensorflow.python.keras.layers.convolutional.Conv2D at 0x7f258f1c4c18>,\n",
              " <tensorflow.python.keras.layers.convolutional.Conv2D at 0x7f25801080b8>,\n",
              " <tensorflow.python.keras.layers.pooling.MaxPooling2D at 0x7f258010e550>,\n",
              " <tensorflow.python.keras.layers.convolutional.Conv2D at 0x7f258010e3c8>,\n",
              " <tensorflow.python.keras.layers.convolutional.Conv2D at 0x7f2580119710>,\n",
              " <tensorflow.python.keras.layers.convolutional.Conv2D at 0x7f258011f8d0>,\n",
              " <tensorflow.python.keras.layers.pooling.MaxPooling2D at 0x7f25801277f0>,\n",
              " <tensorflow.python.keras.layers.convolutional.Conv2D at 0x7f2580127668>,\n",
              " <tensorflow.python.keras.layers.convolutional.Conv2D at 0x7f258012d9b0>,\n",
              " <tensorflow.python.keras.layers.convolutional.Conv2D at 0x7f2580135b70>,\n",
              " <tensorflow.python.keras.layers.pooling.MaxPooling2D at 0x7f258013ba90>,\n",
              " <tensorflow.python.keras.layers.convolutional.Conv2D at 0x7f258013b908>,\n",
              " <tensorflow.python.keras.layers.convolutional.Conv2D at 0x7f25800c3c50>,\n",
              " <tensorflow.python.keras.layers.convolutional.Conv2D at 0x7f25800ca390>,\n",
              " <tensorflow.python.keras.layers.pooling.MaxPooling2D at 0x7f25800d12b0>]"
            ]
          },
          "metadata": {
            "tags": []
          },
          "execution_count": 44
        }
      ]
    },
    {
      "cell_type": "code",
      "metadata": {
        "id": "5332QwanYJU3",
        "colab_type": "code",
        "colab": {}
      },
      "source": [
        "for i in base.layers:\n",
        "    i.trainable = False"
      ],
      "execution_count": 0,
      "outputs": []
    },
    {
      "cell_type": "code",
      "metadata": {
        "id": "dXFlNKJG3_Ij",
        "colab_type": "code",
        "colab": {}
      },
      "source": [
        ""
      ],
      "execution_count": 0,
      "outputs": []
    },
    {
      "cell_type": "code",
      "metadata": {
        "id": "tuBFzKHkYJU4",
        "colab_type": "code",
        "colab": {
          "base_uri": "https://localhost:8080/",
          "height": 34
        },
        "outputId": "3de54e30-b3ff-4a80-e945-40e19ececd5e"
      },
      "source": [
        "base.layers[1].trainable"
      ],
      "execution_count": 140,
      "outputs": [
        {
          "output_type": "execute_result",
          "data": {
            "text/plain": [
              "False"
            ]
          },
          "metadata": {
            "tags": []
          },
          "execution_count": 140
        }
      ]
    },
    {
      "cell_type": "code",
      "metadata": {
        "id": "kmo0Y_4cYJU6",
        "colab_type": "code",
        "colab": {}
      },
      "source": [
        "int_lr = 1e-3\n",
        "epoch = 25\n",
        "bs= 8"
      ],
      "execution_count": 0,
      "outputs": []
    },
    {
      "cell_type": "code",
      "metadata": {
        "id": "WKpWlsYbYJU7",
        "colab_type": "code",
        "colab": {}
      },
      "source": [
        "adm = Adam(lr=int_lr, decay=int_lr / epoch)"
      ],
      "execution_count": 0,
      "outputs": []
    },
    {
      "cell_type": "code",
      "metadata": {
        "id": "0erjqO3JYJU8",
        "colab_type": "code",
        "colab": {
          "base_uri": "https://localhost:8080/",
          "height": 34
        },
        "outputId": "97859a78-4cec-4ca8-f674-662a3758a376"
      },
      "source": [
        "adm"
      ],
      "execution_count": 100,
      "outputs": [
        {
          "output_type": "execute_result",
          "data": {
            "text/plain": [
              "<tensorflow.python.keras.optimizer_v2.adam.Adam at 0x7f25525f53c8>"
            ]
          },
          "metadata": {
            "tags": []
          },
          "execution_count": 100
        }
      ]
    },
    {
      "cell_type": "code",
      "metadata": {
        "id": "oVOe6yFBYJU-",
        "colab_type": "code",
        "colab": {}
      },
      "source": [
        "model.compile(loss=\"binary_crossentropy\", optimizer=adm,metrics=[\"accuracy\"])"
      ],
      "execution_count": 0,
      "outputs": []
    },
    {
      "cell_type": "code",
      "metadata": {
        "id": "0YzUsGTDYJVA",
        "colab_type": "code",
        "colab": {}
      },
      "source": [
        "(trainX, testX, trainY, testY) = train_test_split(data, labels,test_size=0.20, stratify=labels, random_state=42)"
      ],
      "execution_count": 0,
      "outputs": []
    },
    {
      "cell_type": "code",
      "metadata": {
        "id": "i3lsFUriYJVB",
        "colab_type": "code",
        "colab": {
          "base_uri": "https://localhost:8080/",
          "height": 887
        },
        "outputId": "f1046e63-5216-4e5a-d74f-ddc2e99e8fb8"
      },
      "source": [
        "fit_model = model.fit_generator(mygen.flow(trainX, trainY, batch_size=bs),\n",
        "                        steps_per_epoch=len(trainX) // bs,\n",
        "                        validation_data=(testX, testY),\n",
        "                        validation_steps=len(testX) // bs,\n",
        "                        epochs=epoch)"
      ],
      "execution_count": 103,
      "outputs": [
        {
          "output_type": "stream",
          "text": [
            "Epoch 1/25\n",
            "5/5 [==============================] - 1s 113ms/step - loss: 0.9290 - accuracy: 0.4750 - val_loss: 0.7778 - val_accuracy: 0.5000\n",
            "Epoch 2/25\n",
            "5/5 [==============================] - 0s 86ms/step - loss: 0.7985 - accuracy: 0.5000 - val_loss: 0.7117 - val_accuracy: 0.4000\n",
            "Epoch 3/25\n",
            "5/5 [==============================] - 0s 83ms/step - loss: 0.8478 - accuracy: 0.4500 - val_loss: 0.7016 - val_accuracy: 0.5000\n",
            "Epoch 4/25\n",
            "5/5 [==============================] - 0s 80ms/step - loss: 0.7728 - accuracy: 0.5250 - val_loss: 0.6686 - val_accuracy: 0.6000\n",
            "Epoch 5/25\n",
            "5/5 [==============================] - 0s 79ms/step - loss: 0.7323 - accuracy: 0.5250 - val_loss: 0.6404 - val_accuracy: 0.7000\n",
            "Epoch 6/25\n",
            "5/5 [==============================] - 0s 85ms/step - loss: 0.6462 - accuracy: 0.6750 - val_loss: 0.6185 - val_accuracy: 0.9000\n",
            "Epoch 7/25\n",
            "5/5 [==============================] - 0s 81ms/step - loss: 0.6498 - accuracy: 0.6250 - val_loss: 0.5990 - val_accuracy: 0.9000\n",
            "Epoch 8/25\n",
            "5/5 [==============================] - 0s 81ms/step - loss: 0.5975 - accuracy: 0.7250 - val_loss: 0.5776 - val_accuracy: 0.9000\n",
            "Epoch 9/25\n",
            "5/5 [==============================] - 0s 80ms/step - loss: 0.6273 - accuracy: 0.7000 - val_loss: 0.5606 - val_accuracy: 0.9000\n",
            "Epoch 10/25\n",
            "5/5 [==============================] - 0s 80ms/step - loss: 0.5669 - accuracy: 0.7750 - val_loss: 0.5429 - val_accuracy: 1.0000\n",
            "Epoch 11/25\n",
            "5/5 [==============================] - 0s 80ms/step - loss: 0.5810 - accuracy: 0.7500 - val_loss: 0.5283 - val_accuracy: 0.9000\n",
            "Epoch 12/25\n",
            "5/5 [==============================] - 0s 79ms/step - loss: 0.5277 - accuracy: 0.7500 - val_loss: 0.5167 - val_accuracy: 0.9000\n",
            "Epoch 13/25\n",
            "5/5 [==============================] - 0s 82ms/step - loss: 0.5484 - accuracy: 0.8000 - val_loss: 0.5036 - val_accuracy: 0.9000\n",
            "Epoch 14/25\n",
            "5/5 [==============================] - 0s 80ms/step - loss: 0.5228 - accuracy: 0.8000 - val_loss: 0.4865 - val_accuracy: 0.9000\n",
            "Epoch 15/25\n",
            "5/5 [==============================] - 0s 82ms/step - loss: 0.5418 - accuracy: 0.7250 - val_loss: 0.4725 - val_accuracy: 0.9000\n",
            "Epoch 16/25\n",
            "5/5 [==============================] - 0s 79ms/step - loss: 0.5049 - accuracy: 0.8000 - val_loss: 0.4601 - val_accuracy: 0.9000\n",
            "Epoch 17/25\n",
            "5/5 [==============================] - 0s 80ms/step - loss: 0.5477 - accuracy: 0.8250 - val_loss: 0.4533 - val_accuracy: 0.9000\n",
            "Epoch 18/25\n",
            "5/5 [==============================] - 0s 82ms/step - loss: 0.4762 - accuracy: 0.8500 - val_loss: 0.4316 - val_accuracy: 0.9000\n",
            "Epoch 19/25\n",
            "5/5 [==============================] - 0s 82ms/step - loss: 0.4452 - accuracy: 0.8500 - val_loss: 0.4140 - val_accuracy: 0.9000\n",
            "Epoch 20/25\n",
            "5/5 [==============================] - 0s 80ms/step - loss: 0.4183 - accuracy: 0.9250 - val_loss: 0.3983 - val_accuracy: 0.9000\n",
            "Epoch 21/25\n",
            "5/5 [==============================] - 0s 80ms/step - loss: 0.4452 - accuracy: 0.9250 - val_loss: 0.3839 - val_accuracy: 0.9000\n",
            "Epoch 22/25\n",
            "5/5 [==============================] - 0s 82ms/step - loss: 0.4059 - accuracy: 0.8750 - val_loss: 0.3719 - val_accuracy: 0.9000\n",
            "Epoch 23/25\n",
            "5/5 [==============================] - 0s 79ms/step - loss: 0.4425 - accuracy: 0.8500 - val_loss: 0.3584 - val_accuracy: 0.9000\n",
            "Epoch 24/25\n",
            "5/5 [==============================] - 0s 83ms/step - loss: 0.4858 - accuracy: 0.8500 - val_loss: 0.3508 - val_accuracy: 1.0000\n",
            "Epoch 25/25\n",
            "5/5 [==============================] - 0s 79ms/step - loss: 0.3455 - accuracy: 0.9750 - val_loss: 0.3328 - val_accuracy: 0.9000\n"
          ],
          "name": "stdout"
        }
      ]
    },
    {
      "cell_type": "code",
      "metadata": {
        "id": "hFn_tr2vq2cT",
        "colab_type": "code",
        "colab": {}
      },
      "source": [
        "predIdxs = model.predict(testX, batch_size=bs)"
      ],
      "execution_count": 0,
      "outputs": []
    },
    {
      "cell_type": "code",
      "metadata": {
        "id": "MVR50VrRr7JA",
        "colab_type": "code",
        "colab": {
          "base_uri": "https://localhost:8080/",
          "height": 34
        },
        "outputId": "13d76928-5baa-43cb-e78a-14e081bb70cb"
      },
      "source": [
        "type(predIdxs)"
      ],
      "execution_count": 105,
      "outputs": [
        {
          "output_type": "execute_result",
          "data": {
            "text/plain": [
              "numpy.ndarray"
            ]
          },
          "metadata": {
            "tags": []
          },
          "execution_count": 105
        }
      ]
    },
    {
      "cell_type": "code",
      "metadata": {
        "id": "R-SRTLmksEJh",
        "colab_type": "code",
        "colab": {
          "base_uri": "https://localhost:8080/",
          "height": 34
        },
        "outputId": "cfd49d67-127d-49aa-d956-fa39093da526"
      },
      "source": [
        "len(predIdxs)"
      ],
      "execution_count": 106,
      "outputs": [
        {
          "output_type": "execute_result",
          "data": {
            "text/plain": [
              "10"
            ]
          },
          "metadata": {
            "tags": []
          },
          "execution_count": 106
        }
      ]
    },
    {
      "cell_type": "code",
      "metadata": {
        "id": "vDkcCGMwsGfJ",
        "colab_type": "code",
        "colab": {
          "base_uri": "https://localhost:8080/",
          "height": 34
        },
        "outputId": "745c4451-1912-4710-a3f5-071e8a1b561a"
      },
      "source": [
        "predIdxs[1]"
      ],
      "execution_count": 107,
      "outputs": [
        {
          "output_type": "execute_result",
          "data": {
            "text/plain": [
              "array([0.22300135, 0.77699864], dtype=float32)"
            ]
          },
          "metadata": {
            "tags": []
          },
          "execution_count": 107
        }
      ]
    },
    {
      "cell_type": "code",
      "metadata": {
        "id": "nvc9VmPusN-w",
        "colab_type": "code",
        "colab": {
          "base_uri": "https://localhost:8080/",
          "height": 34
        },
        "outputId": "98cd1df5-bdbc-4d30-bfd4-3e24ad3c1355"
      },
      "source": [
        "np.argmax(predIdxs[1])"
      ],
      "execution_count": 108,
      "outputs": [
        {
          "output_type": "execute_result",
          "data": {
            "text/plain": [
              "1"
            ]
          },
          "metadata": {
            "tags": []
          },
          "execution_count": 108
        }
      ]
    },
    {
      "cell_type": "code",
      "metadata": {
        "id": "i5o4dRUIsb3C",
        "colab_type": "code",
        "colab": {
          "base_uri": "https://localhost:8080/",
          "height": 34
        },
        "outputId": "a63ec12a-64a7-4d70-ac50-2e3be52629ca"
      },
      "source": [
        "predIdxs.shape"
      ],
      "execution_count": 109,
      "outputs": [
        {
          "output_type": "execute_result",
          "data": {
            "text/plain": [
              "(10, 2)"
            ]
          },
          "metadata": {
            "tags": []
          },
          "execution_count": 109
        }
      ]
    },
    {
      "cell_type": "code",
      "metadata": {
        "id": "BcNf8pblshoN",
        "colab_type": "code",
        "colab": {}
      },
      "source": [
        "predId = np.argmax(predIdxs, axis=1)"
      ],
      "execution_count": 0,
      "outputs": []
    },
    {
      "cell_type": "code",
      "metadata": {
        "id": "NRh_6kfN4qcM",
        "colab_type": "code",
        "colab": {
          "base_uri": "https://localhost:8080/",
          "height": 34
        },
        "outputId": "34627c16-03b6-4e4a-abe1-f9c84a6a9d66"
      },
      "source": [
        "predId"
      ],
      "execution_count": 111,
      "outputs": [
        {
          "output_type": "execute_result",
          "data": {
            "text/plain": [
              "array([1, 1, 1, 1, 0, 0, 0, 0, 1, 1])"
            ]
          },
          "metadata": {
            "tags": []
          },
          "execution_count": 111
        }
      ]
    },
    {
      "cell_type": "code",
      "metadata": {
        "id": "XfC-tdMfsvHo",
        "colab_type": "code",
        "colab": {
          "base_uri": "https://localhost:8080/",
          "height": 170
        },
        "outputId": "efebb4d4-27d6-4618-e983-83f5babdb2a5"
      },
      "source": [
        "print(classification_report(testY.argmax(axis=1), predId,\n",
        "\ttarget_names=lb.classes_))"
      ],
      "execution_count": 112,
      "outputs": [
        {
          "output_type": "stream",
          "text": [
            "              precision    recall  f1-score   support\n",
            "\n",
            "       covid       1.00      0.80      0.89         5\n",
            "      normal       0.83      1.00      0.91         5\n",
            "\n",
            "    accuracy                           0.90        10\n",
            "   macro avg       0.92      0.90      0.90        10\n",
            "weighted avg       0.92      0.90      0.90        10\n",
            "\n"
          ],
          "name": "stdout"
        }
      ]
    },
    {
      "cell_type": "code",
      "metadata": {
        "id": "Q2R_WA0A66Ye",
        "colab_type": "code",
        "colab": {}
      },
      "source": [
        "c_m = confusion_matrix(testY.argmax(axis=1), predId)\n"
      ],
      "execution_count": 0,
      "outputs": []
    },
    {
      "cell_type": "code",
      "metadata": {
        "id": "aA5lYosv7Idd",
        "colab_type": "code",
        "colab": {
          "base_uri": "https://localhost:8080/",
          "height": 51
        },
        "outputId": "77a88439-febb-4f5f-e267-7141374e585a"
      },
      "source": [
        "c_m"
      ],
      "execution_count": 115,
      "outputs": [
        {
          "output_type": "execute_result",
          "data": {
            "text/plain": [
              "array([[4, 1],\n",
              "       [0, 5]])"
            ]
          },
          "metadata": {
            "tags": []
          },
          "execution_count": 115
        }
      ]
    },
    {
      "cell_type": "code",
      "metadata": {
        "id": "xjNQgBfe6_SB",
        "colab_type": "code",
        "colab": {
          "base_uri": "https://localhost:8080/",
          "height": 102
        },
        "outputId": "7f4b4417-647e-41f7-c4c3-42443d951538"
      },
      "source": [
        "total = sum(sum(c_m))\n",
        "acc = (c_m[0, 0] + c_m[1, 1]) / total\n",
        "sensitivity = c_m[0, 0] / (c_m[0, 0] + c_m[0, 1])\n",
        "specificity = c_m[1, 1] / (c_m[1, 0] + c_m[1, 1])\n",
        "print(c_m)\n",
        "print(\"acc: {:.4f}\".format(acc))\n",
        "print(\"sensitivity: {:.4f}\".format(sensitivity))\n",
        "print(\"specificity: {:.4f}\".format(specificity))"
      ],
      "execution_count": 116,
      "outputs": [
        {
          "output_type": "stream",
          "text": [
            "[[4 1]\n",
            " [0 5]]\n",
            "acc: 0.9000\n",
            "sensitivity: 0.8000\n",
            "specificity: 1.0000\n"
          ],
          "name": "stdout"
        }
      ]
    },
    {
      "cell_type": "code",
      "metadata": {
        "id": "6NjVeTuovwbq",
        "colab_type": "code",
        "colab": {
          "base_uri": "https://localhost:8080/",
          "height": 34
        },
        "outputId": "1d0dfadc-6a7b-4519-ab7a-239da9a5ed3a"
      },
      "source": [
        "epoch"
      ],
      "execution_count": 117,
      "outputs": [
        {
          "output_type": "execute_result",
          "data": {
            "text/plain": [
              "25"
            ]
          },
          "metadata": {
            "tags": []
          },
          "execution_count": 117
        }
      ]
    },
    {
      "cell_type": "code",
      "metadata": {
        "id": "OmF984G97plH",
        "colab_type": "code",
        "colab": {
          "base_uri": "https://localhost:8080/",
          "height": 462
        },
        "outputId": "f1f4522e-dda4-4805-f9a9-95602ea4ca07"
      },
      "source": [
        "N = epoch\n",
        "plt.style.use(\"ggplot\")\n",
        "plt.rcParams[\"figure.figsize\"]=10,7\n",
        "plt.figure()\n",
        "plt.plot(np.arange(0, N), fit_model.history[\"loss\"], label=\"train_loss\")\n",
        "plt.plot(np.arange(0, N), fit_model.history[\"val_loss\"], label=\"val_loss\")\n",
        "plt.plot(np.arange(0, N), fit_model.history[\"accuracy\"], label=\"train_acc\")\n",
        "plt.plot(np.arange(0, N), fit_model.history[\"val_accuracy\"], label=\"val_acc\")\n",
        "plt.title(\"Training Loss and Accuracy on COVID-19 Dataset\")\n",
        "plt.xlabel(\"Epoch #\")\n",
        "plt.ylabel(\"Loss/Accuracy\")\n",
        "plt.legend(loc=\"lower left\")\n",
        "plt.savefig(\"figure\")\n"
      ],
      "execution_count": 126,
      "outputs": [
        {
          "output_type": "display_data",
          "data": {
            "image/png": "[encoded data removed]",
            "text/plain": [
              "<Figure size 720x504 with 1 Axes>"
            ]
          },
          "metadata": {
            "tags": []
          }
        }
      ]
    },
    {
      "cell_type": "code",
      "metadata": {
        "id": "ATXQgwgB7qTj",
        "colab_type": "code",
        "colab": {}
      },
      "source": [
        "model.save('covid19.h5')"
      ],
      "execution_count": 0,
      "outputs": []
    },
    {
      "cell_type": "code",
      "metadata": {
        "id": "FsFxAuib9qjJ",
        "colab_type": "code",
        "colab": {}
      },
      "source": [
        ""
      ],
      "execution_count": 0,
      "outputs": []
    }
  ]
}